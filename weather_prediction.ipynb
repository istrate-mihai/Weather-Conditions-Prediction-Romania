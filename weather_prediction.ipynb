{
 "cells": [
  {
   "cell_type": "markdown",
   "metadata": {},
   "source": [
    "# Step 1: Dataset Overview And Selection"
   ]
  },
  {
   "cell_type": "markdown",
   "metadata": {},
   "source": [
    "## Romania Weather 2011 - 2021\n",
    "\n",
    "About Dataset\n",
    "\n",
    "This dataset contains multiple .csv files which describe weather conditions in all of the counties from Romania, Europe during 2011-2021.\n",
    "\n",
    "Each filename follows the template weather_YEAR_COUNTY.csv, and contains daily data on multiple metrics, most of them being aggregated among 24 measurements of each day by using the average mean.\n",
    "\n",
    "There is also an unique file weather_2011-2021_Romania.csv that contains all of the data from the other files merged together.\n",
    "\n",
    "The data has been collected from the public Visual Crossing Weather API using a small Node.js script.\n",
    "\n",
    "You can find more documentation regarding the data's structure at the following link:\n",
    "\n",
    "https://www.visualcrossing.com/resources/documentation/weather-data/weather-data-documentation/"
   ]
  },
  {
   "cell_type": "code",
   "execution_count": 1,
   "metadata": {},
   "outputs": [],
   "source": [
    "# weather_2011-2021_Romania.csv"
   ]
  },
  {
   "cell_type": "code",
   "execution_count": null,
   "metadata": {},
   "outputs": [],
   "source": []
  }
 ],
 "metadata": {
  "kernelspec": {
   "display_name": "Python 3",
   "language": "python",
   "name": "python3"
  },
  "language_info": {
   "codemirror_mode": {
    "name": "ipython",
    "version": 3
   },
   "file_extension": ".py",
   "mimetype": "text/x-python",
   "name": "python",
   "nbconvert_exporter": "python",
   "pygments_lexer": "ipython3",
   "version": "3.12.0"
  }
 },
 "nbformat": 4,
 "nbformat_minor": 2
}
